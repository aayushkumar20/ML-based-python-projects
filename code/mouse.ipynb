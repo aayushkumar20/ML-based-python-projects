{
  "nbformat": 4,
  "nbformat_minor": 0,
  "metadata": {
    "colab": {
      "name": "mouse.ipynb",
      "provenance": [],
      "authorship_tag": "ABX9TyMeKHE3qg6r1NQ2panTgUH+",
      "include_colab_link": true
    },
    "kernelspec": {
      "name": "python3",
      "display_name": "Python 3"
    },
    "language_info": {
      "name": "python"
    }
  },
  "cells": [
    {
      "cell_type": "markdown",
      "metadata": {
        "id": "view-in-github",
        "colab_type": "text"
      },
      "source": [
        "<a href=\"https://colab.research.google.com/github/aayushkumar20/ML-based-python-projects/blob/main/code/mouse.ipynb\" target=\"_parent\"><img src=\"https://colab.research.google.com/assets/colab-badge.svg\" alt=\"Open In Colab\"/></a>"
      ]
    },
    {
      "cell_type": "code",
      "metadata": {
        "id": "qTf6lrtgi8E2"
      },
      "source": [
        "import cv2\n",
        "import numpy as np\n",
        "from sklearn.metrics import pairwise\n",
        "\n",
        "cap=cv2.Videocapture(0)\n",
        "\n",
        "kernelOpen=np.ones((5,5))\n",
        "kernelClose=np.ones((20,20))\n",
        "lb=np.array([20,100,100])\n",
        "ub=np.array([120,255,255])\n",
        "while true:\n",
        "    ret,frame=cap.read()\n",
        "    flipped=cv2.flip(frame,1)\n",
        "    flipped=cv2.resize(flipped,(500,500))\n",
        "\n",
        "    imgSeg=cv2.cvtColor(frame,cv2.COLOR_BGR2HSV)\n",
        "    imgSegFlipped=cv2.flip(imgSeg,1)\n",
        "    imgSegFlipped=cv2.resize(imgSegFlipped,(500,400))\n",
        "\n",
        "\n",
        "    mask=cv2.inRange(imgSegFlipped,lb,ub)\n",
        "    mask=cv2.resize(mask,(500,400))\n",
        "\n",
        "    maskOpen=cv2.morphologyEx(mask,cv2.MORPH_OPEN,kernelOpen)\n",
        "    maskOpen=cv2.resize(maskOpen,(500,400))\n",
        "    maskClose=cv2.morphologyEx(maskOpen,cv2.MORPH_CLOSE,kernelClose)\n",
        "    maskClose=cv2.resize(maskClose,(500,400))\n",
        "\n",
        "    final=maskClose\n",
        "    _,conts,h=cv2.findContours(maskClose,cv2.RETR_EXTERNAL,cv2.CHAIN_APPROX_NONE)\n",
        "    if(len(conts)!=0):\n",
        "        b=max(conts,key=cv2.contourArea)\n",
        "        west=tuple(b[b[:,:,0].argmin()][0])\n",
        "        east=tuple(b[b[:,:,0].argmax()][0])\n",
        "        north=tuple(b[b[:,:,0].argmin()][0])\n",
        "        south=tuple(b[b[:,:,0].argmax()][0])\n",
        "        center_x=(west[0]+east[0])/2\n",
        "        center_y=(north[0]+south[0])/2\n",
        "\n",
        "        cv2.drawContours(flipped,b,-1,(0,255,0),3)\n",
        "        cv2.circle(flipped,west,7,(0,0,255),-1)\n",
        "        cv2.circle(flipped,east,7,(0,0,255),-1)\n",
        "        cv2.circle(flipped,north,7,(0,0,255),-1)\n",
        "        cv2.circle(flipped,south,7,(0,0,255),-1)\n",
        "        cv2.circle(flipped,(int(center_x),int(center_y)),7,(0,0,255),-1)\n",
        "    \n",
        "    cv2.imshow('video',flipped)\n",
        "    #cv2.imshow('mask',mask)\n",
        "    #cv2.imshow('maskOpen',maskOpen)\n",
        "    #cv2.imshow('maskClose',maskClose)\n",
        "\n",
        "    if cv2.waitKey(1)&0xFF==ord(''):\n",
        "        break\n",
        "\n",
        "cap.release()\n",
        "cv2.destroyAllWindows()"
      ],
      "execution_count": null,
      "outputs": []
    }
  ]
}